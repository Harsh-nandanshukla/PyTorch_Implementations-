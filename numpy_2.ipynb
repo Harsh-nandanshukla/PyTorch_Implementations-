{
  "nbformat": 4,
  "nbformat_minor": 0,
  "metadata": {
    "colab": {
      "provenance": []
    },
    "kernelspec": {
      "name": "python3",
      "display_name": "Python 3"
    },
    "language_info": {
      "name": "python"
    }
  },
  "cells": [
    {
      "cell_type": "code",
      "execution_count": 32,
      "metadata": {
        "id": "HrFwu5aBILzJ"
      },
      "outputs": [],
      "source": [
        "import numpy as np\n",
        "import pandas as pd"
      ]
    },
    {
      "cell_type": "code",
      "source": [
        "w1,w2,w3=0.3,0.2,0.5"
      ],
      "metadata": {
        "id": "2Dqqx6CCj85Y"
      },
      "execution_count": 33,
      "outputs": []
    },
    {
      "cell_type": "code",
      "source": [
        "kan_temp=73\n",
        "kan_rainfall=67\n",
        "kan_humidity=43"
      ],
      "metadata": {
        "id": "OB1shpqUkN88"
      },
      "execution_count": 34,
      "outputs": []
    },
    {
      "cell_type": "code",
      "source": [
        "kan_apples=w1*kan_temp+w2*kan_rainfall+w3*kan_humidity"
      ],
      "metadata": {
        "id": "QsVzUfg3kaha"
      },
      "execution_count": 35,
      "outputs": []
    },
    {
      "cell_type": "code",
      "source": [
        "kan=[73,67,43]\n",
        "johto=[91,88,64]\n",
        "hoenn=[87,134,58]\n",
        "sinnoh=[102,43,37]\n",
        "unova=[69,96,70]\n"
      ],
      "metadata": {
        "id": "W5Um5Vakkrtc"
      },
      "execution_count": 36,
      "outputs": []
    },
    {
      "cell_type": "code",
      "source": [
        "wts=np.array([w1,w2,w3])"
      ],
      "metadata": {
        "id": "tZpR4aqbkrrc"
      },
      "execution_count": 37,
      "outputs": []
    },
    {
      "cell_type": "code",
      "source": [
        "def crop_yield(region,wts):\n",
        "  result=0\n",
        "  for x,w in zip(region,wts):\n",
        "    result+=x*w\n",
        "  return result"
      ],
      "metadata": {
        "id": "vVZZXzQ5krok"
      },
      "execution_count": 38,
      "outputs": []
    },
    {
      "cell_type": "code",
      "source": [
        "crop_yield(sinnoh,wts)"
      ],
      "metadata": {
        "colab": {
          "base_uri": "https://localhost:8080/"
        },
        "id": "V084Gm-mkrmW",
        "outputId": "92f2ebd5-183e-492e-b6b8-75ddf3de056c"
      },
      "execution_count": 39,
      "outputs": [
        {
          "output_type": "execute_result",
          "data": {
            "text/plain": [
              "np.float64(57.699999999999996)"
            ]
          },
          "metadata": {},
          "execution_count": 39
        }
      ]
    },
    {
      "cell_type": "code",
      "source": [
        "crop_yield(kan,wts)"
      ],
      "metadata": {
        "colab": {
          "base_uri": "https://localhost:8080/"
        },
        "id": "bXkmQC4rmcJG",
        "outputId": "3f4dc964-da9b-476f-a429-f5d02b2b5113"
      },
      "execution_count": 40,
      "outputs": [
        {
          "output_type": "execute_result",
          "data": {
            "text/plain": [
              "np.float64(56.8)"
            ]
          },
          "metadata": {},
          "execution_count": 40
        }
      ]
    },
    {
      "cell_type": "code",
      "source": [
        "crop_yield(johto,wts)"
      ],
      "metadata": {
        "colab": {
          "base_uri": "https://localhost:8080/"
        },
        "id": "iFwHRYOJmcAK",
        "outputId": "659804be-22a3-42bb-b8cb-7928316c2d42"
      },
      "execution_count": 41,
      "outputs": [
        {
          "output_type": "execute_result",
          "data": {
            "text/plain": [
              "np.float64(76.9)"
            ]
          },
          "metadata": {},
          "execution_count": 41
        }
      ]
    },
    {
      "cell_type": "code",
      "source": [
        "kan_apples"
      ],
      "metadata": {
        "colab": {
          "base_uri": "https://localhost:8080/"
        },
        "id": "gfFxty2SkmQi",
        "outputId": "871e78f3-2663-4024-9bf9-3b26c5274d6d"
      },
      "execution_count": 42,
      "outputs": [
        {
          "output_type": "execute_result",
          "data": {
            "text/plain": [
              "56.8"
            ]
          },
          "metadata": {},
          "execution_count": 42
        }
      ]
    },
    {
      "cell_type": "code",
      "source": [
        "kan=np.array([12,13,14])"
      ],
      "metadata": {
        "id": "5CRUfQ8vJUn5"
      },
      "execution_count": 43,
      "outputs": []
    },
    {
      "cell_type": "code",
      "source": [
        "kan"
      ],
      "metadata": {
        "colab": {
          "base_uri": "https://localhost:8080/"
        },
        "id": "WlxMFH7WJUkz",
        "outputId": "86dfac44-4a68-40ad-d527-a610c11f8c83"
      },
      "execution_count": 44,
      "outputs": [
        {
          "output_type": "execute_result",
          "data": {
            "text/plain": [
              "array([12, 13, 14])"
            ]
          },
          "metadata": {},
          "execution_count": 44
        }
      ]
    },
    {
      "cell_type": "code",
      "source": [
        "type(kan)"
      ],
      "metadata": {
        "colab": {
          "base_uri": "https://localhost:8080/"
        },
        "id": "41bqE7FQhjqw",
        "outputId": "a65a5f3b-dced-4c57-d877-86be75422239"
      },
      "execution_count": 45,
      "outputs": [
        {
          "output_type": "execute_result",
          "data": {
            "text/plain": [
              "numpy.ndarray"
            ]
          },
          "metadata": {},
          "execution_count": 45
        }
      ]
    },
    {
      "cell_type": "code",
      "source": [
        "kan[2]"
      ],
      "metadata": {
        "colab": {
          "base_uri": "https://localhost:8080/"
        },
        "id": "EPg5K7lCJUiF",
        "outputId": "f9698b37-2773-4334-b875-c88d09fa1cb9"
      },
      "execution_count": 46,
      "outputs": [
        {
          "output_type": "execute_result",
          "data": {
            "text/plain": [
              "np.int64(14)"
            ]
          },
          "metadata": {},
          "execution_count": 46
        }
      ]
    },
    {
      "cell_type": "code",
      "source": [
        "np.dot(johto,wts)"
      ],
      "metadata": {
        "colab": {
          "base_uri": "https://localhost:8080/"
        },
        "id": "NF4OZ0O0gTk9",
        "outputId": "ce98acbe-e150-4456-be56-46c77f215f63"
      },
      "execution_count": 47,
      "outputs": [
        {
          "output_type": "execute_result",
          "data": {
            "text/plain": [
              "np.float64(76.9)"
            ]
          },
          "metadata": {},
          "execution_count": 47
        }
      ]
    },
    {
      "cell_type": "markdown",
      "source": [
        " \"*\" operator is used for element wise multiplication"
      ],
      "metadata": {
        "id": "8Flu56sorXbL"
      }
    },
    {
      "cell_type": "code",
      "source": [
        "(kan*wts).sum()"
      ],
      "metadata": {
        "id": "7kC28iB5gTiE",
        "colab": {
          "base_uri": "https://localhost:8080/"
        },
        "outputId": "20ce5478-440f-45fd-c706-fbede025de5c"
      },
      "execution_count": 48,
      "outputs": [
        {
          "output_type": "execute_result",
          "data": {
            "text/plain": [
              "np.float64(13.2)"
            ]
          },
          "metadata": {},
          "execution_count": 48
        }
      ]
    },
    {
      "cell_type": "code",
      "source": [
        "arr1=np.array([2,7,8])\n",
        "arr2=np.array([4,6,7])"
      ],
      "metadata": {
        "id": "P8yV33uzrfgg"
      },
      "execution_count": 49,
      "outputs": []
    },
    {
      "cell_type": "code",
      "source": [
        "arr1*arr2"
      ],
      "metadata": {
        "id": "e86bsBTLJUfk",
        "colab": {
          "base_uri": "https://localhost:8080/"
        },
        "outputId": "e13d9a08-4ec7-4228-ce8b-8659ea283fe0"
      },
      "execution_count": 50,
      "outputs": [
        {
          "output_type": "execute_result",
          "data": {
            "text/plain": [
              "array([ 8, 42, 56])"
            ]
          },
          "metadata": {},
          "execution_count": 50
        }
      ]
    },
    {
      "cell_type": "code",
      "source": [
        "np.dot(arr1,arr2)"
      ],
      "metadata": {
        "id": "ry0r1wrdJUcg",
        "colab": {
          "base_uri": "https://localhost:8080/"
        },
        "outputId": "7a7ef54c-ffa3-498c-c522-3ecb94c3b83e"
      },
      "execution_count": 51,
      "outputs": [
        {
          "output_type": "execute_result",
          "data": {
            "text/plain": [
              "np.int64(106)"
            ]
          },
          "metadata": {},
          "execution_count": 51
        }
      ]
    },
    {
      "cell_type": "markdown",
      "source": [
        "**There are a couple of important benefits of using Numpy arrays instead of Python lists for operating on numerical data:\n",
        "\n",
        "Ease of use: You can write small, concise and intuitive mathematical expressions like (kanto * weights).sum() rather than using loops & custom functions like crop_yield.\n",
        "\n",
        "Performance: Numpy operations and functions are implemented internally in C++, which makes them much faster than using Python statements & loops which are interpreted at runtime.\n",
        "\n",
        "Here's a quick comparision of dot products done of vectors with a million elements each using Python loops vs. Numpy arrays.**"
      ],
      "metadata": {
        "id": "-hXi4tSsuUPC"
      }
    },
    {
      "cell_type": "code",
      "source": [
        "#Python lists\n",
        "arr1=list(range(1000000))\n",
        "arr2=list(range(1000000,2000000))\n",
        "\n",
        "arr1_np=np.array(arr1)\n",
        "arr2_np=np.array(arr2)"
      ],
      "metadata": {
        "id": "6-UomaoLuQKj"
      },
      "execution_count": 52,
      "outputs": []
    },
    {
      "cell_type": "code",
      "source": [
        "%%time\n",
        "res=0\n",
        "for x1,x2 in zip(arr1,arr2):\n",
        "  res+=x1*x2\n",
        "res"
      ],
      "metadata": {
        "colab": {
          "base_uri": "https://localhost:8080/"
        },
        "id": "vip6TBiFuQH4",
        "outputId": "b9d844e1-5a78-4b0d-f527-060ed9d3378b"
      },
      "execution_count": 53,
      "outputs": [
        {
          "output_type": "stream",
          "name": "stdout",
          "text": [
            "CPU times: user 123 ms, sys: 941 µs, total: 124 ms\n",
            "Wall time: 124 ms\n"
          ]
        },
        {
          "output_type": "execute_result",
          "data": {
            "text/plain": [
              "833332333333500000"
            ]
          },
          "metadata": {},
          "execution_count": 53
        }
      ]
    },
    {
      "cell_type": "code",
      "source": [
        "%%time\n",
        "np.dot(arr1_np,arr2_np)"
      ],
      "metadata": {
        "colab": {
          "base_uri": "https://localhost:8080/"
        },
        "id": "hajVTpw-uQEr",
        "outputId": "2607fb31-122d-48c1-8cc8-5329ff15d5ff"
      },
      "execution_count": 54,
      "outputs": [
        {
          "output_type": "stream",
          "name": "stdout",
          "text": [
            "CPU times: user 1.59 ms, sys: 0 ns, total: 1.59 ms\n",
            "Wall time: 1.59 ms\n"
          ]
        },
        {
          "output_type": "execute_result",
          "data": {
            "text/plain": [
              "np.int64(833332333333500000)"
            ]
          },
          "metadata": {},
          "execution_count": 54
        }
      ]
    },
    {
      "cell_type": "code",
      "source": [
        "climate_data=np.array([[73,67,43],\n",
        "                      [91,88,64],\n",
        "                      [87,134,58],\n",
        "                      [102,43,37],\n",
        "                     [69,96,70]] )"
      ],
      "metadata": {
        "id": "XHNFkxPIxSit"
      },
      "execution_count": 55,
      "outputs": []
    },
    {
      "cell_type": "code",
      "source": [
        "climate_data"
      ],
      "metadata": {
        "id": "bSA06ZouxSf_",
        "colab": {
          "base_uri": "https://localhost:8080/"
        },
        "outputId": "bb8f1d8e-e456-4515-e570-a20114f01fea"
      },
      "execution_count": 56,
      "outputs": [
        {
          "output_type": "execute_result",
          "data": {
            "text/plain": [
              "array([[ 73,  67,  43],\n",
              "       [ 91,  88,  64],\n",
              "       [ 87, 134,  58],\n",
              "       [102,  43,  37],\n",
              "       [ 69,  96,  70]])"
            ]
          },
          "metadata": {},
          "execution_count": 56
        }
      ]
    },
    {
      "cell_type": "code",
      "source": [
        "climate_data.shape"
      ],
      "metadata": {
        "id": "oH-cMC3OJUZs",
        "colab": {
          "base_uri": "https://localhost:8080/"
        },
        "outputId": "097b6c8f-1576-4cbf-8ece-dc5ad8da7856"
      },
      "execution_count": 57,
      "outputs": [
        {
          "output_type": "execute_result",
          "data": {
            "text/plain": [
              "(5, 3)"
            ]
          },
          "metadata": {},
          "execution_count": 57
        }
      ]
    },
    {
      "cell_type": "code",
      "source": [
        "wts.shape"
      ],
      "metadata": {
        "colab": {
          "base_uri": "https://localhost:8080/"
        },
        "id": "IE0Fb8A4fPfs",
        "outputId": "0b2b9654-12d9-4edb-9ae2-4dfdb13c4aaa"
      },
      "execution_count": 58,
      "outputs": [
        {
          "output_type": "execute_result",
          "data": {
            "text/plain": [
              "(3,)"
            ]
          },
          "metadata": {},
          "execution_count": 58
        }
      ]
    },
    {
      "cell_type": "code",
      "source": [
        "arr3=np.array([[[12,24,67],\n",
        "                [46,23,98]],\n",
        "               [[15,3,2],\n",
        "                [12,67,5.2]]])"
      ],
      "metadata": {
        "id": "--TOnwzLgmBd"
      },
      "execution_count": 66,
      "outputs": []
    },
    {
      "cell_type": "code",
      "source": [
        "arr3.shape"
      ],
      "metadata": {
        "colab": {
          "base_uri": "https://localhost:8080/"
        },
        "id": "e6w7cdZ5fPc8",
        "outputId": "c21f7faf-f68c-4d5b-fa3a-ff1d19c9db5d"
      },
      "execution_count": 62,
      "outputs": [
        {
          "output_type": "execute_result",
          "data": {
            "text/plain": [
              "(2, 2, 3)"
            ]
          },
          "metadata": {},
          "execution_count": 62
        }
      ]
    },
    {
      "cell_type": "code",
      "source": [
        "wts.dtype"
      ],
      "metadata": {
        "colab": {
          "base_uri": "https://localhost:8080/"
        },
        "id": "t-mNwQ5BfPak",
        "outputId": "229ef091-9716-4de2-e74c-460b6cbfdc61"
      },
      "execution_count": 63,
      "outputs": [
        {
          "output_type": "execute_result",
          "data": {
            "text/plain": [
              "dtype('float64')"
            ]
          },
          "metadata": {},
          "execution_count": 63
        }
      ]
    },
    {
      "cell_type": "code",
      "source": [
        "arr3.dtype"
      ],
      "metadata": {
        "colab": {
          "base_uri": "https://localhost:8080/"
        },
        "id": "yPt9lHL9fPYE",
        "outputId": "2bdc97bd-46c2-429e-b3cb-00e59ce8ae6c"
      },
      "execution_count": 67,
      "outputs": [
        {
          "output_type": "execute_result",
          "data": {
            "text/plain": [
              "dtype('float64')"
            ]
          },
          "metadata": {},
          "execution_count": 67
        }
      ]
    },
    {
      "cell_type": "code",
      "source": [
        "climate_data.dtype"
      ],
      "metadata": {
        "colab": {
          "base_uri": "https://localhost:8080/"
        },
        "id": "wzXPHT-6jWJj",
        "outputId": "22597344-a679-4499-d390-ee9c6036ac92"
      },
      "execution_count": 65,
      "outputs": [
        {
          "output_type": "execute_result",
          "data": {
            "text/plain": [
              "dtype('int64')"
            ]
          },
          "metadata": {},
          "execution_count": 65
        }
      ]
    },
    {
      "cell_type": "code",
      "source": [
        "arr3"
      ],
      "metadata": {
        "colab": {
          "base_uri": "https://localhost:8080/"
        },
        "id": "dmv_aJdXjWG4",
        "outputId": "38f5f6cd-14cb-41c5-da35-7a8d9bf912d1"
      },
      "execution_count": 68,
      "outputs": [
        {
          "output_type": "execute_result",
          "data": {
            "text/plain": [
              "array([[[12. , 24. , 67. ],\n",
              "        [46. , 23. , 98. ]],\n",
              "\n",
              "       [[15. ,  3. ,  2. ],\n",
              "        [12. , 67. ,  5.2]]])"
            ]
          },
          "metadata": {},
          "execution_count": 68
        }
      ]
    },
    {
      "cell_type": "markdown",
      "source": [],
      "metadata": {
        "id": "6VTkxlWKlRo-"
      }
    },
    {
      "cell_type": "markdown",
      "source": [
        "**we use matmul function to do matrix multiplication also @ operator is also used for matrix multplication**"
      ],
      "metadata": {
        "id": "AR_dBhablTaQ"
      }
    },
    {
      "cell_type": "code",
      "source": [
        "np.matmul(climate_data,wts)"
      ],
      "metadata": {
        "colab": {
          "base_uri": "https://localhost:8080/"
        },
        "id": "cNvWbYlhlCcn",
        "outputId": "5b3dfbed-4838-470a-e2c6-9ba462655a78"
      },
      "execution_count": 70,
      "outputs": [
        {
          "output_type": "execute_result",
          "data": {
            "text/plain": [
              "array([56.8, 76.9, 81.9, 57.7, 74.9])"
            ]
          },
          "metadata": {},
          "execution_count": 70
        }
      ]
    },
    {
      "cell_type": "code",
      "source": [
        "climate_data @ wts"
      ],
      "metadata": {
        "colab": {
          "base_uri": "https://localhost:8080/"
        },
        "id": "kb9ASc8blCZW",
        "outputId": "f111c1f7-f36e-4b55-bc14-97eaa80c36cc"
      },
      "execution_count": 71,
      "outputs": [
        {
          "output_type": "execute_result",
          "data": {
            "text/plain": [
              "array([56.8, 76.9, 81.9, 57.7, 74.9])"
            ]
          },
          "metadata": {},
          "execution_count": 71
        }
      ]
    },
    {
      "cell_type": "markdown",
      "source": [
        "Working with CSV data files\n",
        "Numpy also provides helper functions reading from & writing to files. Let's download a file climate.txt, which contains 10,000 climate measurements (temperature, rainfall & humidity) in the following format:\n",
        "\n",
        "temperature,rainfall,humidity\n",
        "25.00,76.00,99.00\n",
        "39.00,65.00,70.00\n",
        "59.00,45.00,77.00\n",
        "84.00,63.00,38.00\n",
        "66.00,50.00,52.00\n",
        "41.00,94.00,77.00\n",
        "91.00,57.00,96.00\n",
        "49.00,96.00,99.00\n",
        "67.00,20.00,28.00\n",
        "..."
      ],
      "metadata": {
        "id": "ObnD4_EmmbRZ"
      }
    },
    {
      "cell_type": "code",
      "source": [
        "import urllib.request\n",
        "\n",
        "urllib.request.urlretrieve(\n",
        "    'https://gist.github.com/BirajCoder/a4ffcb76fd6fb221d76ac2ee2b8584e9/raw/4054f90adfd361b7aa4255e99c2e874664094cea/climate.csv',\n",
        "    'climate.txt')"
      ],
      "metadata": {
        "colab": {
          "base_uri": "https://localhost:8080/"
        },
        "id": "prUhJDs9jWET",
        "outputId": "4d2f887d-1d1a-4ef5-e02c-a5efe1cb173f"
      },
      "execution_count": 72,
      "outputs": [
        {
          "output_type": "execute_result",
          "data": {
            "text/plain": [
              "('climate.txt', <http.client.HTTPMessage at 0x7b82dc7904d0>)"
            ]
          },
          "metadata": {},
          "execution_count": 72
        }
      ]
    },
    {
      "cell_type": "code",
      "source": [
        "climate_data = np.genfromtxt('climate.txt', delimiter=',', skip_header=1)"
      ],
      "metadata": {
        "id": "CURHVgetjV7i"
      },
      "execution_count": 73,
      "outputs": []
    },
    {
      "cell_type": "code",
      "source": [
        "climate_data"
      ],
      "metadata": {
        "colab": {
          "base_uri": "https://localhost:8080/"
        },
        "id": "wxz-Ysi7mh50",
        "outputId": "cbb983cb-7495-4e4c-efca-56c708d720df"
      },
      "execution_count": 74,
      "outputs": [
        {
          "output_type": "execute_result",
          "data": {
            "text/plain": [
              "array([[25., 76., 99.],\n",
              "       [39., 65., 70.],\n",
              "       [59., 45., 77.],\n",
              "       ...,\n",
              "       [99., 62., 58.],\n",
              "       [70., 71., 91.],\n",
              "       [92., 39., 76.]])"
            ]
          },
          "metadata": {},
          "execution_count": 74
        }
      ]
    },
    {
      "cell_type": "code",
      "source": [
        "climate_data.shape"
      ],
      "metadata": {
        "colab": {
          "base_uri": "https://localhost:8080/"
        },
        "id": "3qLP1vPgmh3P",
        "outputId": "37bfda24-cd74-4890-e335-437e47b42bbf"
      },
      "execution_count": 76,
      "outputs": [
        {
          "output_type": "execute_result",
          "data": {
            "text/plain": [
              "(10000, 3)"
            ]
          },
          "metadata": {},
          "execution_count": 76
        }
      ]
    },
    {
      "cell_type": "code",
      "source": [
        "yields=climate_data @ wts"
      ],
      "metadata": {
        "id": "B_aKpijVwQVE"
      },
      "execution_count": 77,
      "outputs": []
    },
    {
      "cell_type": "code",
      "source": [
        "yields"
      ],
      "metadata": {
        "colab": {
          "base_uri": "https://localhost:8080/"
        },
        "id": "quMzC_PVwQRD",
        "outputId": "ea852bc1-27a5-40f0-a6f1-13514a505e62"
      },
      "execution_count": 78,
      "outputs": [
        {
          "output_type": "execute_result",
          "data": {
            "text/plain": [
              "array([72.2, 59.7, 65.2, ..., 71.1, 80.7, 73.4])"
            ]
          },
          "metadata": {},
          "execution_count": 78
        }
      ]
    },
    {
      "cell_type": "code",
      "source": [
        "yields.shape"
      ],
      "metadata": {
        "colab": {
          "base_uri": "https://localhost:8080/"
        },
        "id": "YmHnOD9cmh0Z",
        "outputId": "dc3bf517-57b3-4eb3-d099-515aa4e6af1f"
      },
      "execution_count": 79,
      "outputs": [
        {
          "output_type": "execute_result",
          "data": {
            "text/plain": [
              "(10000,)"
            ]
          },
          "metadata": {},
          "execution_count": 79
        }
      ]
    },
    {
      "cell_type": "markdown",
      "source": [
        "we got yields as result we wanted now we have to insert the values in yield as column"
      ],
      "metadata": {
        "id": "VqbtJNS6wvyt"
      }
    },
    {
      "cell_type": "code",
      "source": [
        "climate_results=np.concatenate((climate_data,yields.reshape(10000,1)),axis=1)"
      ],
      "metadata": {
        "id": "Qg1uT2Atwvaw"
      },
      "execution_count": 81,
      "outputs": []
    },
    {
      "cell_type": "code",
      "source": [
        "climate_results"
      ],
      "metadata": {
        "colab": {
          "base_uri": "https://localhost:8080/"
        },
        "id": "p_AwiPJ_wu0d",
        "outputId": "3614eebb-19f1-41c1-bbae-373242786e46"
      },
      "execution_count": 82,
      "outputs": [
        {
          "output_type": "execute_result",
          "data": {
            "text/plain": [
              "array([[25. , 76. , 99. , 72.2],\n",
              "       [39. , 65. , 70. , 59.7],\n",
              "       [59. , 45. , 77. , 65.2],\n",
              "       ...,\n",
              "       [99. , 62. , 58. , 71.1],\n",
              "       [70. , 71. , 91. , 80.7],\n",
              "       [92. , 39. , 76. , 73.4]])"
            ]
          },
          "metadata": {},
          "execution_count": 82
        }
      ]
    },
    {
      "cell_type": "code",
      "source": [
        "np.savetxt('climate_results.txt',\n",
        "           climate_results,\n",
        "           fmt='%.2f',\n",
        "           delimiter=',',\n",
        "           header='temperature,rainfall,humidity,yeild_apples',\n",
        "           comments='')"
      ],
      "metadata": {
        "id": "7jIl8dcUzZs9"
      },
      "execution_count": 83,
      "outputs": []
    },
    {
      "cell_type": "markdown",
      "source": [
        "Numpy provides hundreds of functions for performing operations on arrays. Here are some commonly used functions:\n",
        "\n",
        "Mathematics: np.sum, np.exp, np.round, arithemtic operators\n",
        "Array manipulation: np.reshape, np.stack, np.concatenate, np.split\n",
        "Linear Algebra: np.matmul, np.dot, np.transpose, np.eigvals\n",
        "Statistics: np.mean, np.median, np.std, np.max"
      ],
      "metadata": {
        "id": "b9bRijdZz6nl"
      }
    },
    {
      "cell_type": "code",
      "source": [],
      "metadata": {
        "id": "SLe_SCWXweCA"
      },
      "execution_count": null,
      "outputs": []
    },
    {
      "cell_type": "code",
      "source": [],
      "metadata": {
        "id": "m4ZQ1zqzwd_h"
      },
      "execution_count": null,
      "outputs": []
    },
    {
      "cell_type": "code",
      "source": [],
      "metadata": {
        "id": "smSfCf13wd89"
      },
      "execution_count": null,
      "outputs": []
    },
    {
      "cell_type": "code",
      "source": [],
      "metadata": {
        "id": "wSOi4a6Kmhxn"
      },
      "execution_count": null,
      "outputs": []
    }
  ]
}