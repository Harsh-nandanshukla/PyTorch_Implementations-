{
  "nbformat": 4,
  "nbformat_minor": 0,
  "metadata": {
    "colab": {
      "provenance": []
    },
    "kernelspec": {
      "name": "python3",
      "display_name": "Python 3"
    },
    "language_info": {
      "name": "python"
    }
  },
  "cells": [
    {
      "cell_type": "code",
      "execution_count": 1,
      "metadata": {
        "id": "HrFwu5aBILzJ"
      },
      "outputs": [],
      "source": [
        "import numpy as np\n",
        "import pandas as pd"
      ]
    },
    {
      "cell_type": "code",
      "source": [
        "w1,w2,w3=0.3,0.2,0.5"
      ],
      "metadata": {
        "id": "2Dqqx6CCj85Y"
      },
      "execution_count": 2,
      "outputs": []
    },
    {
      "cell_type": "code",
      "source": [
        "kan_temp=73\n",
        "kan_rainfall=67\n",
        "kan_humidity=43"
      ],
      "metadata": {
        "id": "OB1shpqUkN88"
      },
      "execution_count": 3,
      "outputs": []
    },
    {
      "cell_type": "code",
      "source": [
        "kan_apples=w1*kan_temp+w2*kan_rainfall+w3*kan_humidity"
      ],
      "metadata": {
        "id": "QsVzUfg3kaha"
      },
      "execution_count": 4,
      "outputs": []
    },
    {
      "cell_type": "code",
      "source": [
        "kan=[73,67,43]\n",
        "johto=[91,88,64]\n",
        "hoenn=[87,134,58]\n",
        "sinnoh=[102,43,37]\n",
        "unova=[69,96,70]\n"
      ],
      "metadata": {
        "id": "W5Um5Vakkrtc"
      },
      "execution_count": 5,
      "outputs": []
    },
    {
      "cell_type": "code",
      "source": [
        "wts=[w1,w2,w3]"
      ],
      "metadata": {
        "id": "tZpR4aqbkrrc"
      },
      "execution_count": 6,
      "outputs": []
    },
    {
      "cell_type": "code",
      "source": [
        "def crop_yield(region,wts):\n",
        "  result=0\n",
        "  for x,w in zip(region,wts):\n",
        "    result+=x*w\n",
        "  return result"
      ],
      "metadata": {
        "id": "vVZZXzQ5krok"
      },
      "execution_count": 7,
      "outputs": []
    },
    {
      "cell_type": "code",
      "source": [
        "crop_yield(sinnoh,wts)"
      ],
      "metadata": {
        "colab": {
          "base_uri": "https://localhost:8080/"
        },
        "id": "V084Gm-mkrmW",
        "outputId": "d3445e71-68ba-4707-8667-cd5fb3f54d73"
      },
      "execution_count": 8,
      "outputs": [
        {
          "output_type": "execute_result",
          "data": {
            "text/plain": [
              "57.699999999999996"
            ]
          },
          "metadata": {},
          "execution_count": 8
        }
      ]
    },
    {
      "cell_type": "code",
      "source": [
        "crop_yield(kan,wts)"
      ],
      "metadata": {
        "colab": {
          "base_uri": "https://localhost:8080/"
        },
        "id": "bXkmQC4rmcJG",
        "outputId": "c42fab76-8eab-41ad-89ab-5c4bdf0d4c1c"
      },
      "execution_count": 9,
      "outputs": [
        {
          "output_type": "execute_result",
          "data": {
            "text/plain": [
              "56.8"
            ]
          },
          "metadata": {},
          "execution_count": 9
        }
      ]
    },
    {
      "cell_type": "code",
      "source": [
        "crop_yield(johto,wts)"
      ],
      "metadata": {
        "colab": {
          "base_uri": "https://localhost:8080/"
        },
        "id": "iFwHRYOJmcAK",
        "outputId": "e559a1f4-529f-4e5d-caee-86a983d7af93"
      },
      "execution_count": 10,
      "outputs": [
        {
          "output_type": "execute_result",
          "data": {
            "text/plain": [
              "76.9"
            ]
          },
          "metadata": {},
          "execution_count": 10
        }
      ]
    },
    {
      "cell_type": "code",
      "source": [
        "kan_apples"
      ],
      "metadata": {
        "colab": {
          "base_uri": "https://localhost:8080/"
        },
        "id": "gfFxty2SkmQi",
        "outputId": "fa8e10a8-943c-435b-fcf1-7b6ed8d3ef69"
      },
      "execution_count": 11,
      "outputs": [
        {
          "output_type": "execute_result",
          "data": {
            "text/plain": [
              "56.8"
            ]
          },
          "metadata": {},
          "execution_count": 11
        }
      ]
    },
    {
      "cell_type": "code",
      "source": [
        "kan=np.array([12,13,14])"
      ],
      "metadata": {
        "id": "5CRUfQ8vJUn5"
      },
      "execution_count": 12,
      "outputs": []
    },
    {
      "cell_type": "code",
      "source": [
        "kan"
      ],
      "metadata": {
        "colab": {
          "base_uri": "https://localhost:8080/"
        },
        "id": "WlxMFH7WJUkz",
        "outputId": "e1d276a8-de5f-4d3c-b1e5-f2b164d79af5"
      },
      "execution_count": 13,
      "outputs": [
        {
          "output_type": "execute_result",
          "data": {
            "text/plain": [
              "array([12, 13, 14])"
            ]
          },
          "metadata": {},
          "execution_count": 13
        }
      ]
    },
    {
      "cell_type": "code",
      "source": [
        "type(kan)"
      ],
      "metadata": {
        "colab": {
          "base_uri": "https://localhost:8080/"
        },
        "id": "41bqE7FQhjqw",
        "outputId": "53365ef4-691f-4035-eb2a-449827ac4448"
      },
      "execution_count": 14,
      "outputs": [
        {
          "output_type": "execute_result",
          "data": {
            "text/plain": [
              "numpy.ndarray"
            ]
          },
          "metadata": {},
          "execution_count": 14
        }
      ]
    },
    {
      "cell_type": "code",
      "source": [
        "kan[2]"
      ],
      "metadata": {
        "colab": {
          "base_uri": "https://localhost:8080/"
        },
        "id": "EPg5K7lCJUiF",
        "outputId": "12353542-e84e-4ccb-a12a-c517ed435f6c"
      },
      "execution_count": 15,
      "outputs": [
        {
          "output_type": "execute_result",
          "data": {
            "text/plain": [
              "np.int64(14)"
            ]
          },
          "metadata": {},
          "execution_count": 15
        }
      ]
    },
    {
      "cell_type": "code",
      "source": [
        "np.dot(johto,wts)"
      ],
      "metadata": {
        "colab": {
          "base_uri": "https://localhost:8080/"
        },
        "id": "NF4OZ0O0gTk9",
        "outputId": "bd632b00-d536-475b-c6b9-1fac3ecae7b2"
      },
      "execution_count": 16,
      "outputs": [
        {
          "output_type": "execute_result",
          "data": {
            "text/plain": [
              "np.float64(76.9)"
            ]
          },
          "metadata": {},
          "execution_count": 16
        }
      ]
    },
    {
      "cell_type": "markdown",
      "source": [
        " \"*\" operator is used for element wise multiplication"
      ],
      "metadata": {
        "id": "8Flu56sorXbL"
      }
    },
    {
      "cell_type": "code",
      "source": [
        "(kan*wts).sum()"
      ],
      "metadata": {
        "id": "7kC28iB5gTiE",
        "colab": {
          "base_uri": "https://localhost:8080/"
        },
        "outputId": "510bda26-063e-4be2-f4ec-745e96101a23"
      },
      "execution_count": 17,
      "outputs": [
        {
          "output_type": "execute_result",
          "data": {
            "text/plain": [
              "np.float64(13.2)"
            ]
          },
          "metadata": {},
          "execution_count": 17
        }
      ]
    },
    {
      "cell_type": "code",
      "source": [
        "arr1=np.array([2,7,8])\n",
        "arr2=np.array([4,6,7])"
      ],
      "metadata": {
        "id": "P8yV33uzrfgg"
      },
      "execution_count": 19,
      "outputs": []
    },
    {
      "cell_type": "code",
      "source": [
        "arr1*arr2"
      ],
      "metadata": {
        "id": "e86bsBTLJUfk",
        "colab": {
          "base_uri": "https://localhost:8080/"
        },
        "outputId": "26f0455c-33e9-4f54-e7b0-0841294368c3"
      },
      "execution_count": 20,
      "outputs": [
        {
          "output_type": "execute_result",
          "data": {
            "text/plain": [
              "array([ 8, 42, 56])"
            ]
          },
          "metadata": {},
          "execution_count": 20
        }
      ]
    },
    {
      "cell_type": "code",
      "source": [
        "np.dot(arr1,arr2)"
      ],
      "metadata": {
        "id": "ry0r1wrdJUcg",
        "colab": {
          "base_uri": "https://localhost:8080/"
        },
        "outputId": "0bad7d46-2f15-4e2b-838b-e3bc48133916"
      },
      "execution_count": 21,
      "outputs": [
        {
          "output_type": "execute_result",
          "data": {
            "text/plain": [
              "np.int64(106)"
            ]
          },
          "metadata": {},
          "execution_count": 21
        }
      ]
    },
    {
      "cell_type": "markdown",
      "source": [
        "**There are a couple of important benefits of using Numpy arrays instead of Python lists for operating on numerical data:\n",
        "\n",
        "Ease of use: You can write small, concise and intuitive mathematical expressions like (kanto * weights).sum() rather than using loops & custom functions like crop_yield.\n",
        "\n",
        "Performance: Numpy operations and functions are implemented internally in C++, which makes them much faster than using Python statements & loops which are interpreted at runtime.\n",
        "\n",
        "Here's a quick comparision of dot products done of vectors with a million elements each using Python loops vs. Numpy arrays.**"
      ],
      "metadata": {
        "id": "-hXi4tSsuUPC"
      }
    },
    {
      "cell_type": "code",
      "source": [
        "#Python lists\n",
        "arr1=list(range(1000000))\n",
        "arr2=list(range(1000000,2000000))\n",
        "\n",
        "arr1_np=np.array(arr1)\n",
        "arr2_np=np.array(arr2)"
      ],
      "metadata": {
        "id": "6-UomaoLuQKj"
      },
      "execution_count": 28,
      "outputs": []
    },
    {
      "cell_type": "code",
      "source": [
        "%%time\n",
        "res=0\n",
        "for x1,x2 in zip(arr1,arr2):\n",
        "  res+=x1*x2\n",
        "res"
      ],
      "metadata": {
        "colab": {
          "base_uri": "https://localhost:8080/"
        },
        "id": "vip6TBiFuQH4",
        "outputId": "b979dd1f-3d00-44c2-a165-4466c8ced833"
      },
      "execution_count": 29,
      "outputs": [
        {
          "output_type": "stream",
          "name": "stdout",
          "text": [
            "CPU times: user 206 ms, sys: 933 µs, total: 207 ms\n",
            "Wall time: 207 ms\n"
          ]
        },
        {
          "output_type": "execute_result",
          "data": {
            "text/plain": [
              "833332333333500000"
            ]
          },
          "metadata": {},
          "execution_count": 29
        }
      ]
    },
    {
      "cell_type": "code",
      "source": [
        "%%time\n",
        "np.dot(arr1_np,arr2_np)"
      ],
      "metadata": {
        "colab": {
          "base_uri": "https://localhost:8080/"
        },
        "id": "hajVTpw-uQEr",
        "outputId": "e8bbbb1e-2d51-4fe1-acff-c591b2ef4966"
      },
      "execution_count": 30,
      "outputs": [
        {
          "output_type": "stream",
          "name": "stdout",
          "text": [
            "CPU times: user 2.58 ms, sys: 0 ns, total: 2.58 ms\n",
            "Wall time: 2.23 ms\n"
          ]
        },
        {
          "output_type": "execute_result",
          "data": {
            "text/plain": [
              "np.int64(833332333333500000)"
            ]
          },
          "metadata": {},
          "execution_count": 30
        }
      ]
    },
    {
      "cell_type": "code",
      "source": [],
      "metadata": {
        "id": "XHNFkxPIxSit"
      },
      "execution_count": null,
      "outputs": []
    },
    {
      "cell_type": "code",
      "source": [],
      "metadata": {
        "id": "bSA06ZouxSf_"
      },
      "execution_count": null,
      "outputs": []
    },
    {
      "cell_type": "code",
      "source": [],
      "metadata": {
        "id": "oH-cMC3OJUZs"
      },
      "execution_count": 16,
      "outputs": []
    }
  ]
}