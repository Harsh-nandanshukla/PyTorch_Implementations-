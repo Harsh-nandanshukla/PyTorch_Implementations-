{
  "nbformat": 4,
  "nbformat_minor": 0,
  "metadata": {
    "colab": {
      "provenance": [],
      "gpuType": "T4"
    },
    "kernelspec": {
      "name": "python3",
      "display_name": "Python 3"
    },
    "language_info": {
      "name": "python"
    },
    "accelerator": "GPU"
  },
  "cells": [
    {
      "cell_type": "code",
      "execution_count": 87,
      "metadata": {
        "colab": {
          "base_uri": "https://localhost:8080/"
        },
        "id": "fJ7ZHH8o-Ju7",
        "outputId": "1ec0d9df-d8c6-4071-8acc-db0b6e22a2e1"
      },
      "outputs": [
        {
          "output_type": "stream",
          "name": "stdout",
          "text": [
            "2.6.0+cu124\n"
          ]
        }
      ],
      "source": [
        "import torch\n",
        "print(torch.__version__)\n"
      ]
    },
    {
      "cell_type": "code",
      "source": [
        "if torch.cuda.is_available():\n",
        "    print(torch.cuda.get_device_name(0))"
      ],
      "metadata": {
        "id": "ZZtSfm4c-zbC"
      },
      "execution_count": 88,
      "outputs": []
    },
    {
      "cell_type": "markdown",
      "source": [
        "**CREATING TENSOR**"
      ],
      "metadata": {
        "id": "5FNElRfq_vhM"
      }
    },
    {
      "cell_type": "code",
      "source": [
        "#using empty ranom indialization ,values not in a specific range , random garbage values assigned\n",
        "a=torch.empty(2,3)"
      ],
      "metadata": {
        "id": "U3WXsl1X-zXi"
      },
      "execution_count": 89,
      "outputs": []
    },
    {
      "cell_type": "code",
      "source": [
        "#using type\n",
        "type(a)"
      ],
      "metadata": {
        "colab": {
          "base_uri": "https://localhost:8080/"
        },
        "id": "W7YTY8XW-zTe",
        "outputId": "dd0145d3-f3c8-4315-c3e4-f2a8da1bf319"
      },
      "execution_count": 90,
      "outputs": [
        {
          "output_type": "execute_result",
          "data": {
            "text/plain": [
              "torch.Tensor"
            ]
          },
          "metadata": {},
          "execution_count": 90
        }
      ]
    },
    {
      "cell_type": "code",
      "source": [
        "#using zeros\n",
        "torch.zeros(2,3)"
      ],
      "metadata": {
        "colab": {
          "base_uri": "https://localhost:8080/"
        },
        "id": "ICVbg5tP-zQx",
        "outputId": "88ba8af5-d24b-4cdd-b70e-aa81d2cc6522"
      },
      "execution_count": 91,
      "outputs": [
        {
          "output_type": "execute_result",
          "data": {
            "text/plain": [
              "tensor([[0., 0., 0.],\n",
              "        [0., 0., 0.]])"
            ]
          },
          "metadata": {},
          "execution_count": 91
        }
      ]
    },
    {
      "cell_type": "code",
      "source": [
        "#using ones\n",
        "torch.ones(2,3)"
      ],
      "metadata": {
        "colab": {
          "base_uri": "https://localhost:8080/"
        },
        "id": "_Os18eCy-zLX",
        "outputId": "c232074d-5d92-4ff4-ddd6-e99551e2026c"
      },
      "execution_count": 92,
      "outputs": [
        {
          "output_type": "execute_result",
          "data": {
            "text/plain": [
              "tensor([[1., 1., 1.],\n",
              "        [1., 1., 1.]])"
            ]
          },
          "metadata": {},
          "execution_count": 92
        }
      ]
    },
    {
      "cell_type": "code",
      "source": [
        "#using randonm, rnage if intialization , bewtween 0 and 1\n",
        "torch.rand(2,3)"
      ],
      "metadata": {
        "colab": {
          "base_uri": "https://localhost:8080/"
        },
        "id": "SADahWft-zIN",
        "outputId": "30b8d856-1772-49e4-87d8-80a2fd1e730d"
      },
      "execution_count": 93,
      "outputs": [
        {
          "output_type": "execute_result",
          "data": {
            "text/plain": [
              "tensor([[0.9556, 0.9761, 0.5934],\n",
              "        [0.3124, 0.9431, 0.8519]])"
            ]
          },
          "metadata": {},
          "execution_count": 93
        }
      ]
    },
    {
      "cell_type": "code",
      "source": [
        "torch.rand(2,3)"
      ],
      "metadata": {
        "colab": {
          "base_uri": "https://localhost:8080/"
        },
        "id": "0S5QSUBCByzf",
        "outputId": "d9a2ce33-654a-421a-bba5-48e67e611feb"
      },
      "execution_count": 94,
      "outputs": [
        {
          "output_type": "execute_result",
          "data": {
            "text/plain": [
              "tensor([[0.9815, 0.1132, 0.4783],\n",
              "        [0.4436, 0.3847, 0.4521]])"
            ]
          },
          "metadata": {},
          "execution_count": 94
        }
      ]
    },
    {
      "cell_type": "code",
      "source": [
        "torch.manual_seed(100)\n",
        "torch.rand(2,3)"
      ],
      "metadata": {
        "colab": {
          "base_uri": "https://localhost:8080/"
        },
        "id": "zkcx5w5gBywF",
        "outputId": "8e3afaaf-98cc-4a16-c412-b7bc2801aa80"
      },
      "execution_count": 95,
      "outputs": [
        {
          "output_type": "execute_result",
          "data": {
            "text/plain": [
              "tensor([[0.1117, 0.8158, 0.2626],\n",
              "        [0.4839, 0.6765, 0.7539]])"
            ]
          },
          "metadata": {},
          "execution_count": 95
        }
      ]
    },
    {
      "cell_type": "code",
      "source": [
        "torch.manual_seed(100)#it will be same elemnts after manual seeding\n",
        "torch.rand(2,3)"
      ],
      "metadata": {
        "colab": {
          "base_uri": "https://localhost:8080/"
        },
        "id": "6nYHUKgtByty",
        "outputId": "9d8c1b8c-7a59-4e34-fd08-000c5c3693f2"
      },
      "execution_count": 96,
      "outputs": [
        {
          "output_type": "execute_result",
          "data": {
            "text/plain": [
              "tensor([[0.1117, 0.8158, 0.2626],\n",
              "        [0.4839, 0.6765, 0.7539]])"
            ]
          },
          "metadata": {},
          "execution_count": 96
        }
      ]
    },
    {
      "cell_type": "code",
      "source": [
        "torch.tensor([[1,2,3],[7,8,9]])"
      ],
      "metadata": {
        "colab": {
          "base_uri": "https://localhost:8080/"
        },
        "id": "xfiW8_7pByq0",
        "outputId": "eb1c559d-cd8c-4d13-bcb7-e446266d5a1f"
      },
      "execution_count": 97,
      "outputs": [
        {
          "output_type": "execute_result",
          "data": {
            "text/plain": [
              "tensor([[1, 2, 3],\n",
              "        [7, 8, 9]])"
            ]
          },
          "metadata": {},
          "execution_count": 97
        }
      ]
    },
    {
      "cell_type": "code",
      "source": [
        "#OTHER WAYS\n",
        "print( \"Using arange:->\" ,torch.arange(0,10))\n",
        "print(\"Using arange:->\",torch.arange(0,10,2))\n",
        "print(\"Using linspace:->\",torch.linspace(0,10,10))#evenly spaced 10 values between 0 and 10\n",
        "print(\"Using eye:->\",torch.eye(5))\n",
        "print(\"Using full:->\",torch.full((3,3),5))\n",
        "#"
      ],
      "metadata": {
        "colab": {
          "base_uri": "https://localhost:8080/"
        },
        "id": "RW0aU5iMByoW",
        "outputId": "5afdc43b-a3a8-4f32-b820-3254adda3219"
      },
      "execution_count": 98,
      "outputs": [
        {
          "output_type": "stream",
          "name": "stdout",
          "text": [
            "Using arange:-> tensor([0, 1, 2, 3, 4, 5, 6, 7, 8, 9])\n",
            "Using arange:-> tensor([0, 2, 4, 6, 8])\n",
            "Using linspace:-> tensor([ 0.0000,  1.1111,  2.2222,  3.3333,  4.4444,  5.5556,  6.6667,  7.7778,\n",
            "         8.8889, 10.0000])\n",
            "Using eye:-> tensor([[1., 0., 0., 0., 0.],\n",
            "        [0., 1., 0., 0., 0.],\n",
            "        [0., 0., 1., 0., 0.],\n",
            "        [0., 0., 0., 1., 0.],\n",
            "        [0., 0., 0., 0., 1.]])\n",
            "Using full:-> tensor([[5, 5, 5],\n",
            "        [5, 5, 5],\n",
            "        [5, 5, 5]])\n"
          ]
        }
      ]
    },
    {
      "cell_type": "markdown",
      "source": [
        "**TENSOR SHAPES**"
      ],
      "metadata": {
        "id": "ulKo1rN57KDQ"
      }
    },
    {
      "cell_type": "code",
      "source": [
        "x=torch.tensor([[1,2,3],[5,6,7]])"
      ],
      "metadata": {
        "id": "oTex3iTt7Jyt"
      },
      "execution_count": 99,
      "outputs": []
    },
    {
      "cell_type": "code",
      "source": [
        "x.shape"
      ],
      "metadata": {
        "colab": {
          "base_uri": "https://localhost:8080/"
        },
        "id": "mx2dQOAU7JvT",
        "outputId": "d9fb570b-c5b9-4577-a1ac-60895f1cf985"
      },
      "execution_count": 100,
      "outputs": [
        {
          "output_type": "execute_result",
          "data": {
            "text/plain": [
              "torch.Size([2, 3])"
            ]
          },
          "metadata": {},
          "execution_count": 100
        }
      ]
    },
    {
      "cell_type": "code",
      "source": [
        "torch.empty_like(x)"
      ],
      "metadata": {
        "colab": {
          "base_uri": "https://localhost:8080/"
        },
        "id": "r1SXm1vl7Jsa",
        "outputId": "e802474f-0a5a-485e-9330-8749dc590b47"
      },
      "execution_count": 101,
      "outputs": [
        {
          "output_type": "execute_result",
          "data": {
            "text/plain": [
              "tensor([[        153873072,         156816064, 72340172838076673],\n",
              "        [        536870913,                48,                48]])"
            ]
          },
          "metadata": {},
          "execution_count": 101
        }
      ]
    },
    {
      "cell_type": "code",
      "source": [
        "torch.zeros_like(x)"
      ],
      "metadata": {
        "colab": {
          "base_uri": "https://localhost:8080/"
        },
        "id": "F4_wPkCP7Jph",
        "outputId": "600e492e-55e5-48d0-b77c-0ab16256c888"
      },
      "execution_count": 102,
      "outputs": [
        {
          "output_type": "execute_result",
          "data": {
            "text/plain": [
              "tensor([[0, 0, 0],\n",
              "        [0, 0, 0]])"
            ]
          },
          "metadata": {},
          "execution_count": 102
        }
      ]
    },
    {
      "cell_type": "code",
      "source": [
        "torch.ones_like(x)"
      ],
      "metadata": {
        "colab": {
          "base_uri": "https://localhost:8080/"
        },
        "id": "tL0JM7AeByl2",
        "outputId": "2fb9cf79-e0fc-43ca-9627-0d0ea9e4aa53"
      },
      "execution_count": 103,
      "outputs": [
        {
          "output_type": "execute_result",
          "data": {
            "text/plain": [
              "tensor([[1, 1, 1],\n",
              "        [1, 1, 1]])"
            ]
          },
          "metadata": {},
          "execution_count": 103
        }
      ]
    },
    {
      "cell_type": "code",
      "source": [
        "#torch.rand_like(x)# it gives error because rand will give float values but x has int values  this will be solved in later section"
      ],
      "metadata": {
        "collapsed": true,
        "id": "Rp_HzrTUByis"
      },
      "execution_count": 104,
      "outputs": []
    },
    {
      "cell_type": "markdown",
      "source": [
        "**TENSOR DATA TYPES**"
      ],
      "metadata": {
        "id": "XQM4c__A-B-B"
      }
    },
    {
      "cell_type": "code",
      "source": [
        "x.dtype"
      ],
      "metadata": {
        "colab": {
          "base_uri": "https://localhost:8080/"
        },
        "id": "tuXlwJm69qkj",
        "outputId": "61d8ec93-79b5-4a29-fcfe-4ad52a56c376"
      },
      "execution_count": 105,
      "outputs": [
        {
          "output_type": "execute_result",
          "data": {
            "text/plain": [
              "torch.int64"
            ]
          },
          "metadata": {},
          "execution_count": 105
        }
      ]
    },
    {
      "cell_type": "code",
      "source": [
        "#assigning dtype\n",
        "torch.tensor([1.9,2.3,3.4],dtype=torch.int32)\n"
      ],
      "metadata": {
        "colab": {
          "base_uri": "https://localhost:8080/"
        },
        "id": "rXe_otx19qhR",
        "outputId": "0f7abad5-7598-48ea-ea5e-9d511b07067a"
      },
      "execution_count": 106,
      "outputs": [
        {
          "output_type": "execute_result",
          "data": {
            "text/plain": [
              "tensor([1, 2, 3], dtype=torch.int32)"
            ]
          },
          "metadata": {},
          "execution_count": 106
        }
      ]
    },
    {
      "cell_type": "code",
      "source": [
        "torch.tensor([1,2,3],dtype=torch.float64)"
      ],
      "metadata": {
        "colab": {
          "base_uri": "https://localhost:8080/"
        },
        "id": "pfW-uhAg9qe5",
        "outputId": "5eb06bee-b5d0-4a80-f8c3-8c352303bcb9"
      },
      "execution_count": 107,
      "outputs": [
        {
          "output_type": "execute_result",
          "data": {
            "text/plain": [
              "tensor([1., 2., 3.], dtype=torch.float64)"
            ]
          },
          "metadata": {},
          "execution_count": 107
        }
      ]
    },
    {
      "cell_type": "code",
      "source": [
        "torch.rand_like(x,dtype=torch.float64)"
      ],
      "metadata": {
        "id": "753sGFAp9qch",
        "colab": {
          "base_uri": "https://localhost:8080/"
        },
        "outputId": "418759f7-c9c6-43e7-fa9e-025294177c8b"
      },
      "execution_count": 108,
      "outputs": [
        {
          "output_type": "execute_result",
          "data": {
            "text/plain": [
              "tensor([[0.1015, 0.6642, 0.9736],\n",
              "        [0.6941, 0.3464, 0.9751]], dtype=torch.float64)"
            ]
          },
          "metadata": {},
          "execution_count": 108
        }
      ]
    },
    {
      "cell_type": "markdown",
      "source": [
        "**MATHEMATICAL OPERATONS ON TENSORS**"
      ],
      "metadata": {
        "id": "X93A_zXpFqUW"
      }
    },
    {
      "cell_type": "code",
      "source": [
        "x=torch.rand(2,2)"
      ],
      "metadata": {
        "id": "Jzmx7qIs9qZ2"
      },
      "execution_count": 109,
      "outputs": []
    },
    {
      "cell_type": "code",
      "source": [
        "x"
      ],
      "metadata": {
        "colab": {
          "base_uri": "https://localhost:8080/"
        },
        "id": "qROgIM-LF5ai",
        "outputId": "575c2cb5-f494-41eb-d32c-4606ee71f50f"
      },
      "execution_count": 110,
      "outputs": [
        {
          "output_type": "execute_result",
          "data": {
            "text/plain": [
              "tensor([[0.2239, 0.3023],\n",
              "        [0.1784, 0.8238]])"
            ]
          },
          "metadata": {},
          "execution_count": 110
        }
      ]
    },
    {
      "cell_type": "code",
      "source": [
        "#additon\n",
        "x+2\n",
        "#subtraction\n",
        "x-2\n",
        "#multiplication\n",
        "x*3\n",
        "#divison\n",
        "x/3\n",
        "#int division\n",
        "x*100//3\n",
        "#mod\n",
        "(x*100//3)%2\n",
        "#power\n",
        "x**2\n"
      ],
      "metadata": {
        "colab": {
          "base_uri": "https://localhost:8080/"
        },
        "id": "o-10L8umF5XH",
        "outputId": "1701ff2a-540d-4997-c9d8-a605a3c3b801"
      },
      "execution_count": 111,
      "outputs": [
        {
          "output_type": "execute_result",
          "data": {
            "text/plain": [
              "tensor([[0.0501, 0.0914],\n",
              "        [0.0318, 0.6787]])"
            ]
          },
          "metadata": {},
          "execution_count": 111
        }
      ]
    },
    {
      "cell_type": "code",
      "source": [
        "a=torch.rand(2,2)\n",
        "b=torch.rand(2,2)\n",
        "print(a)\n",
        "print(b)"
      ],
      "metadata": {
        "colab": {
          "base_uri": "https://localhost:8080/"
        },
        "id": "a_dnS2wJF5Ul",
        "outputId": "16f1e368-d4d5-424d-b685-ff6a12ca43b6"
      },
      "execution_count": 112,
      "outputs": [
        {
          "output_type": "stream",
          "name": "stdout",
          "text": [
            "tensor([[0.5557, 0.9770],\n",
            "        [0.4440, 0.9478]])\n",
            "tensor([[0.7445, 0.4892],\n",
            "        [0.2426, 0.7003]])\n"
          ]
        }
      ]
    },
    {
      "cell_type": "code",
      "source": [
        "a+b\n",
        "a-b\n",
        "a*b\n",
        "a/b\n",
        "a**b\n",
        "a%b\n",
        "a//b"
      ],
      "metadata": {
        "colab": {
          "base_uri": "https://localhost:8080/"
        },
        "id": "3P7-kPLWF5R7",
        "outputId": "706e677e-01f9-439c-8c64-57e4d1532284"
      },
      "execution_count": 113,
      "outputs": [
        {
          "output_type": "execute_result",
          "data": {
            "text/plain": [
              "tensor([[0., 1.],\n",
              "        [1., 1.]])"
            ]
          },
          "metadata": {},
          "execution_count": 113
        }
      ]
    },
    {
      "cell_type": "code",
      "source": [
        "c=torch.tensor([1,-2,4,-8])"
      ],
      "metadata": {
        "id": "qPGiUiGKF5PM"
      },
      "execution_count": 114,
      "outputs": []
    },
    {
      "cell_type": "code",
      "source": [
        "#for absoute value\n",
        "torch.abs(c)"
      ],
      "metadata": {
        "id": "se1NDKFvF5Mm",
        "colab": {
          "base_uri": "https://localhost:8080/"
        },
        "outputId": "4969479b-f02a-43bc-8c27-6cf45ad0ece6"
      },
      "execution_count": 115,
      "outputs": [
        {
          "output_type": "execute_result",
          "data": {
            "text/plain": [
              "tensor([1, 2, 4, 8])"
            ]
          },
          "metadata": {},
          "execution_count": 115
        }
      ]
    },
    {
      "cell_type": "code",
      "source": [
        "# changes sign of elemnet\n",
        "torch.neg(c)"
      ],
      "metadata": {
        "id": "dFRWyDDAF5Jo",
        "colab": {
          "base_uri": "https://localhost:8080/"
        },
        "outputId": "83078b3c-7d4b-4a26-9a39-3a85d33d6737"
      },
      "execution_count": 116,
      "outputs": [
        {
          "output_type": "execute_result",
          "data": {
            "text/plain": [
              "tensor([-1,  2, -4,  8])"
            ]
          },
          "metadata": {},
          "execution_count": 116
        }
      ]
    },
    {
      "cell_type": "code",
      "source": [
        "d=torch.tensor([1,-2,3,4])"
      ],
      "metadata": {
        "id": "ax9En2gFF5Fc"
      },
      "execution_count": 117,
      "outputs": []
    },
    {
      "cell_type": "code",
      "source": [
        "# rounding off\n",
        "torch.round(d)"
      ],
      "metadata": {
        "colab": {
          "base_uri": "https://localhost:8080/"
        },
        "id": "THIIrQF1UfZS",
        "outputId": "e499725e-ea89-4e6b-8127-fcf1b0d962fc"
      },
      "execution_count": 118,
      "outputs": [
        {
          "output_type": "execute_result",
          "data": {
            "text/plain": [
              "tensor([ 1, -2,  3,  4])"
            ]
          },
          "metadata": {},
          "execution_count": 118
        }
      ]
    },
    {
      "cell_type": "code",
      "source": [
        "#ceil\n",
        "torch.ceil(d)"
      ],
      "metadata": {
        "colab": {
          "base_uri": "https://localhost:8080/"
        },
        "id": "UWsSldRZU-il",
        "outputId": "7ff31df2-714a-446a-ae7e-82853280ac99"
      },
      "execution_count": 119,
      "outputs": [
        {
          "output_type": "execute_result",
          "data": {
            "text/plain": [
              "tensor([ 1, -2,  3,  4])"
            ]
          },
          "metadata": {},
          "execution_count": 119
        }
      ]
    },
    {
      "cell_type": "code",
      "source": [
        "#floor\n",
        "torch.floor(d)"
      ],
      "metadata": {
        "colab": {
          "base_uri": "https://localhost:8080/"
        },
        "id": "LkvCuY29U-gC",
        "outputId": "5c3560a5-7d8d-42a0-ba98-a7c13cbbe590"
      },
      "execution_count": 120,
      "outputs": [
        {
          "output_type": "execute_result",
          "data": {
            "text/plain": [
              "tensor([ 1, -2,  3,  4])"
            ]
          },
          "metadata": {},
          "execution_count": 120
        }
      ]
    },
    {
      "cell_type": "code",
      "source": [
        "#IMPORTANT :CLAMP FN(putting all elements in range)\n",
        "torch.clamp(d,min=1,max=3)"
      ],
      "metadata": {
        "colab": {
          "base_uri": "https://localhost:8080/"
        },
        "id": "v-7dK8siU-a0",
        "outputId": "8a13a622-3efe-4ed8-8318-aa4f5d83de9b"
      },
      "execution_count": 121,
      "outputs": [
        {
          "output_type": "execute_result",
          "data": {
            "text/plain": [
              "tensor([1, 1, 3, 3])"
            ]
          },
          "metadata": {},
          "execution_count": 121
        }
      ]
    },
    {
      "cell_type": "markdown",
      "source": [
        "**REDUCTION OPERATION**"
      ],
      "metadata": {
        "id": "JksJo40XVx1O"
      }
    },
    {
      "cell_type": "code",
      "source": [
        "e=torch.randint(size=(2,3),low=0,high=10)"
      ],
      "metadata": {
        "id": "nfXK4IY1U-YL"
      },
      "execution_count": 122,
      "outputs": []
    },
    {
      "cell_type": "code",
      "source": [
        "e"
      ],
      "metadata": {
        "colab": {
          "base_uri": "https://localhost:8080/"
        },
        "id": "Ms8ubrWnU-Vk",
        "outputId": "e8b5e4b3-a725-455a-b04c-330e6e94404e"
      },
      "execution_count": 123,
      "outputs": [
        {
          "output_type": "execute_result",
          "data": {
            "text/plain": [
              "tensor([[7, 0, 0],\n",
              "        [9, 5, 7]])"
            ]
          },
          "metadata": {},
          "execution_count": 123
        }
      ]
    },
    {
      "cell_type": "code",
      "source": [
        "torch.sum(e)\n",
        "torch.sum(e,dim=0)#sum along clumns\n",
        "torch.sum(e,dim=1)#sum along rows"
      ],
      "metadata": {
        "colab": {
          "base_uri": "https://localhost:8080/"
        },
        "id": "MNnUaBu6U-S6",
        "outputId": "152d91a2-9988-4bc7-8e0a-69ec8e33a76a"
      },
      "execution_count": 124,
      "outputs": [
        {
          "output_type": "execute_result",
          "data": {
            "text/plain": [
              "tensor([ 7, 21])"
            ]
          },
          "metadata": {},
          "execution_count": 124
        }
      ]
    },
    {
      "cell_type": "code",
      "source": [
        "torch.mean(e.float())"
      ],
      "metadata": {
        "colab": {
          "base_uri": "https://localhost:8080/"
        },
        "id": "7N9STnX9U-QM",
        "outputId": "9e15d6b4-981b-476a-b5a9-2f005e9cf3f4"
      },
      "execution_count": 125,
      "outputs": [
        {
          "output_type": "execute_result",
          "data": {
            "text/plain": [
              "tensor(4.6667)"
            ]
          },
          "metadata": {},
          "execution_count": 125
        }
      ]
    },
    {
      "cell_type": "code",
      "source": [
        "torch.mean(e.float(),dim=0)#mean column wise"
      ],
      "metadata": {
        "colab": {
          "base_uri": "https://localhost:8080/"
        },
        "id": "kGAYZ0MxU-N9",
        "outputId": "062a3786-122a-4364-8149-9da8a5d66739"
      },
      "execution_count": 126,
      "outputs": [
        {
          "output_type": "execute_result",
          "data": {
            "text/plain": [
              "tensor([8.0000, 2.5000, 3.5000])"
            ]
          },
          "metadata": {},
          "execution_count": 126
        }
      ]
    },
    {
      "cell_type": "code",
      "source": [
        "torch.median(e)"
      ],
      "metadata": {
        "colab": {
          "base_uri": "https://localhost:8080/"
        },
        "id": "7lF8V_JBU-Lf",
        "outputId": "cb84239b-0561-48f7-d919-c8236bffe3bb"
      },
      "execution_count": 127,
      "outputs": [
        {
          "output_type": "execute_result",
          "data": {
            "text/plain": [
              "tensor(5)"
            ]
          },
          "metadata": {},
          "execution_count": 127
        }
      ]
    },
    {
      "cell_type": "code",
      "source": [
        "torch.max(e)"
      ],
      "metadata": {
        "colab": {
          "base_uri": "https://localhost:8080/"
        },
        "id": "RkbzvDbbU-JI",
        "outputId": "c020dcb0-fe8d-4d3c-bdf2-d4edd3dba534"
      },
      "execution_count": 128,
      "outputs": [
        {
          "output_type": "execute_result",
          "data": {
            "text/plain": [
              "tensor(9)"
            ]
          },
          "metadata": {},
          "execution_count": 128
        }
      ]
    },
    {
      "cell_type": "code",
      "source": [
        "torch.min(e)"
      ],
      "metadata": {
        "colab": {
          "base_uri": "https://localhost:8080/"
        },
        "id": "BDmoArL-U-HA",
        "outputId": "18f205ed-efe8-4df1-d577-700fb7e334aa"
      },
      "execution_count": 129,
      "outputs": [
        {
          "output_type": "execute_result",
          "data": {
            "text/plain": [
              "tensor(0)"
            ]
          },
          "metadata": {},
          "execution_count": 129
        }
      ]
    },
    {
      "cell_type": "code",
      "source": [
        "#product\n",
        "torch.prod(e)"
      ],
      "metadata": {
        "colab": {
          "base_uri": "https://localhost:8080/"
        },
        "id": "nrR8EWVGYTeQ",
        "outputId": "5576f7d4-c8b6-4ee0-cbbe-f2c9169cd249"
      },
      "execution_count": 130,
      "outputs": [
        {
          "output_type": "execute_result",
          "data": {
            "text/plain": [
              "tensor(0)"
            ]
          },
          "metadata": {},
          "execution_count": 130
        }
      ]
    },
    {
      "cell_type": "code",
      "source": [
        "#std deviation\n",
        "torch.std(e.float())"
      ],
      "metadata": {
        "colab": {
          "base_uri": "https://localhost:8080/"
        },
        "id": "K0sOrRkWYTaP",
        "outputId": "44fb6dad-f4f8-4804-9c00-1673565daace"
      },
      "execution_count": 131,
      "outputs": [
        {
          "output_type": "execute_result",
          "data": {
            "text/plain": [
              "tensor(3.8297)"
            ]
          },
          "metadata": {},
          "execution_count": 131
        }
      ]
    },
    {
      "cell_type": "code",
      "source": [
        "#variance\n",
        "torch.var(e.float())"
      ],
      "metadata": {
        "colab": {
          "base_uri": "https://localhost:8080/"
        },
        "id": "-OMaKuuCYTXT",
        "outputId": "a3bfd09d-0411-4af0-8cc6-2229118ced6c"
      },
      "execution_count": 132,
      "outputs": [
        {
          "output_type": "execute_result",
          "data": {
            "text/plain": [
              "tensor(14.6667)"
            ]
          },
          "metadata": {},
          "execution_count": 132
        }
      ]
    },
    {
      "cell_type": "code",
      "source": [
        "torch.argmax(e)"
      ],
      "metadata": {
        "colab": {
          "base_uri": "https://localhost:8080/"
        },
        "id": "9Jkp6nQZYTVI",
        "outputId": "bf0f1711-9c76-4d91-c278-106261be4b74"
      },
      "execution_count": 133,
      "outputs": [
        {
          "output_type": "execute_result",
          "data": {
            "text/plain": [
              "tensor(3)"
            ]
          },
          "metadata": {},
          "execution_count": 133
        }
      ]
    },
    {
      "cell_type": "code",
      "source": [
        "torch.argmin(e)"
      ],
      "metadata": {
        "colab": {
          "base_uri": "https://localhost:8080/"
        },
        "id": "q9GY-2bVYTSu",
        "outputId": "6b5ec35f-53c0-4e34-c7d3-c35b31c25328"
      },
      "execution_count": 134,
      "outputs": [
        {
          "output_type": "execute_result",
          "data": {
            "text/plain": [
              "tensor(1)"
            ]
          },
          "metadata": {},
          "execution_count": 134
        }
      ]
    },
    {
      "cell_type": "markdown",
      "source": [
        "**MATRIX OPERATION**"
      ],
      "metadata": {
        "id": "6qX5Gq_7aE4t"
      }
    },
    {
      "cell_type": "code",
      "source": [
        "f=torch.randint(size=(2,3),low=0,high=10)\n",
        "g=torch.randint(size=(3,2),low=0,high=10)\n",
        "f"
      ],
      "metadata": {
        "colab": {
          "base_uri": "https://localhost:8080/"
        },
        "id": "D5wTCo5LYTQx",
        "outputId": "b6274b54-efb0-450b-98ec-16286c0fb1b7"
      },
      "execution_count": 135,
      "outputs": [
        {
          "output_type": "execute_result",
          "data": {
            "text/plain": [
              "tensor([[3, 9, 4],\n",
              "        [0, 5, 7]])"
            ]
          },
          "metadata": {},
          "execution_count": 135
        }
      ]
    },
    {
      "cell_type": "code",
      "source": [
        "g"
      ],
      "metadata": {
        "colab": {
          "base_uri": "https://localhost:8080/"
        },
        "id": "iwwZt68SYTOF",
        "outputId": "e9560628-6e8a-4841-dc94-225ee7be6a40"
      },
      "execution_count": 136,
      "outputs": [
        {
          "output_type": "execute_result",
          "data": {
            "text/plain": [
              "tensor([[5, 9],\n",
              "        [9, 7],\n",
              "        [5, 9]])"
            ]
          },
          "metadata": {},
          "execution_count": 136
        }
      ]
    },
    {
      "cell_type": "code",
      "source": [
        "torch.matmul(f,g)"
      ],
      "metadata": {
        "colab": {
          "base_uri": "https://localhost:8080/"
        },
        "id": "lgplRLK8YTLu",
        "outputId": "c7b83ad7-1d53-44ea-c9b0-d64f11935eba"
      },
      "execution_count": 137,
      "outputs": [
        {
          "output_type": "execute_result",
          "data": {
            "text/plain": [
              "tensor([[116, 126],\n",
              "        [ 80,  98]])"
            ]
          },
          "metadata": {},
          "execution_count": 137
        }
      ]
    },
    {
      "cell_type": "code",
      "source": [
        "vec1=torch.tensor([1,2])\n",
        "vec2=torch.tensor([3,4])\n",
        "torch.dot(vec1,vec2)"
      ],
      "metadata": {
        "colab": {
          "base_uri": "https://localhost:8080/"
        },
        "id": "hCG50RzScwcK",
        "outputId": "c7180806-831a-4eb2-a103-7bbc63b4604f"
      },
      "execution_count": 138,
      "outputs": [
        {
          "output_type": "execute_result",
          "data": {
            "text/plain": [
              "tensor(11)"
            ]
          },
          "metadata": {},
          "execution_count": 138
        }
      ]
    },
    {
      "cell_type": "code",
      "source": [
        "f"
      ],
      "metadata": {
        "colab": {
          "base_uri": "https://localhost:8080/"
        },
        "id": "Y12dtzMldS9G",
        "outputId": "d7a71552-6508-4bb0-ddea-e6f8f46cf147"
      },
      "execution_count": 139,
      "outputs": [
        {
          "output_type": "execute_result",
          "data": {
            "text/plain": [
              "tensor([[3, 9, 4],\n",
              "        [0, 5, 7]])"
            ]
          },
          "metadata": {},
          "execution_count": 139
        }
      ]
    },
    {
      "cell_type": "code",
      "source": [
        "#transpoose\n",
        "torch.transpose(f,0,1)"
      ],
      "metadata": {
        "colab": {
          "base_uri": "https://localhost:8080/"
        },
        "id": "hz9Bc-SJcwZ4",
        "outputId": "331076b6-d085-4c26-f456-3dbe51557120"
      },
      "execution_count": 140,
      "outputs": [
        {
          "output_type": "execute_result",
          "data": {
            "text/plain": [
              "tensor([[3, 0],\n",
              "        [9, 5],\n",
              "        [4, 7]])"
            ]
          },
          "metadata": {},
          "execution_count": 140
        }
      ]
    },
    {
      "cell_type": "code",
      "source": [
        "h=torch.randint(size=(3,3),low=0,high=10,dtype=torch.float32)"
      ],
      "metadata": {
        "id": "VHax4uBscwXP"
      },
      "execution_count": 141,
      "outputs": []
    },
    {
      "cell_type": "code",
      "source": [
        "h"
      ],
      "metadata": {
        "colab": {
          "base_uri": "https://localhost:8080/"
        },
        "id": "mXnhL7lQcwU9",
        "outputId": "471543d4-4b0e-4d9c-f31b-a9df1cc539f9"
      },
      "execution_count": 142,
      "outputs": [
        {
          "output_type": "execute_result",
          "data": {
            "text/plain": [
              "tensor([[8., 9., 7.],\n",
              "        [9., 2., 6.],\n",
              "        [7., 7., 8.]])"
            ]
          },
          "metadata": {},
          "execution_count": 142
        }
      ]
    },
    {
      "cell_type": "code",
      "source": [
        "#determinant\n",
        "torch.det(h)"
      ],
      "metadata": {
        "colab": {
          "base_uri": "https://localhost:8080/"
        },
        "id": "bX_SdBFLcwSb",
        "outputId": "7337996d-a2b4-4186-8c68-1d8bfbf3f3cf"
      },
      "execution_count": 143,
      "outputs": [
        {
          "output_type": "execute_result",
          "data": {
            "text/plain": [
              "tensor(-135.0000)"
            ]
          },
          "metadata": {},
          "execution_count": 143
        }
      ]
    },
    {
      "cell_type": "code",
      "source": [
        "#inverse\n",
        "torch.inverse(h)"
      ],
      "metadata": {
        "colab": {
          "base_uri": "https://localhost:8080/"
        },
        "id": "C8ofWk8Eiasz",
        "outputId": "55316e40-048e-4dfd-b5c9-04d01146260a"
      },
      "execution_count": 144,
      "outputs": [
        {
          "output_type": "execute_result",
          "data": {
            "text/plain": [
              "tensor([[ 0.1926,  0.1704, -0.2963],\n",
              "        [ 0.2222, -0.1111, -0.1111],\n",
              "        [-0.3630, -0.0519,  0.4815]])"
            ]
          },
          "metadata": {},
          "execution_count": 144
        }
      ]
    },
    {
      "cell_type": "code",
      "source": [
        "i=torch.randint(size=(3,3),low=0,high=10,dtype=torch.float32)\n",
        "j=torch.randint(size=(3,3),low=0,high=10,dtype=torch.float32)\n",
        "print(i)\n",
        "print(j)"
      ],
      "metadata": {
        "colab": {
          "base_uri": "https://localhost:8080/"
        },
        "id": "nlGMWqDaiaql",
        "outputId": "d0db0a12-e7a5-4488-dd92-bc7f4fe7f22f"
      },
      "execution_count": 145,
      "outputs": [
        {
          "output_type": "stream",
          "name": "stdout",
          "text": [
            "tensor([[3., 6., 1.],\n",
            "        [5., 5., 0.],\n",
            "        [4., 3., 8.]])\n",
            "tensor([[8., 3., 3.],\n",
            "        [5., 0., 6.],\n",
            "        [4., 0., 8.]])\n"
          ]
        }
      ]
    },
    {
      "cell_type": "code",
      "source": [
        "i>j\n",
        "i<j\n",
        "i==j\n",
        "i!=j\n",
        "i>=j\n",
        "i<=j"
      ],
      "metadata": {
        "colab": {
          "base_uri": "https://localhost:8080/"
        },
        "id": "8DF86m9qiaoD",
        "outputId": "2ac5ca06-8df3-48ee-9a78-0c82d5f903d0"
      },
      "execution_count": 146,
      "outputs": [
        {
          "output_type": "execute_result",
          "data": {
            "text/plain": [
              "tensor([[ True, False,  True],\n",
              "        [ True, False,  True],\n",
              "        [ True, False,  True]])"
            ]
          },
          "metadata": {},
          "execution_count": 146
        }
      ]
    },
    {
      "cell_type": "markdown",
      "source": [
        "**SPECIAL FUNCTIONS**"
      ],
      "metadata": {
        "id": "whkhcG0lkrRS"
      }
    },
    {
      "cell_type": "code",
      "source": [
        "k=torch.randint(size=(3,3),low=0,high=10,dtype=torch.float32)\n",
        "k"
      ],
      "metadata": {
        "colab": {
          "base_uri": "https://localhost:8080/"
        },
        "id": "boCergkbialJ",
        "outputId": "81b54d64-f304-4a58-df73-8a7f495dfeab"
      },
      "execution_count": 147,
      "outputs": [
        {
          "output_type": "execute_result",
          "data": {
            "text/plain": [
              "tensor([[4., 7., 2.],\n",
              "        [3., 8., 5.],\n",
              "        [6., 2., 9.]])"
            ]
          },
          "metadata": {},
          "execution_count": 147
        }
      ]
    },
    {
      "cell_type": "code",
      "source": [
        "#log\n",
        "torch.log(k)"
      ],
      "metadata": {
        "colab": {
          "base_uri": "https://localhost:8080/"
        },
        "id": "x0lwFGswcwPr",
        "outputId": "cee49261-4ae7-49a8-edfd-0f99c17e7a59"
      },
      "execution_count": 148,
      "outputs": [
        {
          "output_type": "execute_result",
          "data": {
            "text/plain": [
              "tensor([[1.3863, 1.9459, 0.6931],\n",
              "        [1.0986, 2.0794, 1.6094],\n",
              "        [1.7918, 0.6931, 2.1972]])"
            ]
          },
          "metadata": {},
          "execution_count": 148
        }
      ]
    },
    {
      "cell_type": "code",
      "source": [
        "#sqrt\n",
        "torch.sqrt(k)"
      ],
      "metadata": {
        "colab": {
          "base_uri": "https://localhost:8080/"
        },
        "id": "KYvA6NxUcwMv",
        "outputId": "49b3e9bf-670a-4039-9167-41b2d67be138"
      },
      "execution_count": 149,
      "outputs": [
        {
          "output_type": "execute_result",
          "data": {
            "text/plain": [
              "tensor([[2.0000, 2.6458, 1.4142],\n",
              "        [1.7321, 2.8284, 2.2361],\n",
              "        [2.4495, 1.4142, 3.0000]])"
            ]
          },
          "metadata": {},
          "execution_count": 149
        }
      ]
    },
    {
      "cell_type": "code",
      "source": [
        "#sigmoid\n",
        "torch.sigmoid(k)"
      ],
      "metadata": {
        "colab": {
          "base_uri": "https://localhost:8080/"
        },
        "id": "bHc0g3jzcwKY",
        "outputId": "c956ac9c-451f-40e2-9714-826a33e159a0"
      },
      "execution_count": 150,
      "outputs": [
        {
          "output_type": "execute_result",
          "data": {
            "text/plain": [
              "tensor([[0.9820, 0.9991, 0.8808],\n",
              "        [0.9526, 0.9997, 0.9933],\n",
              "        [0.9975, 0.8808, 0.9999]])"
            ]
          },
          "metadata": {},
          "execution_count": 150
        }
      ]
    },
    {
      "cell_type": "code",
      "source": [
        "#softmax\n",
        "torch.softmax(k,dim=0)"
      ],
      "metadata": {
        "colab": {
          "base_uri": "https://localhost:8080/"
        },
        "id": "e9DWITQJiimw",
        "outputId": "3f0b1ab9-3fe6-4949-b95f-89b3aa7b9f84"
      },
      "execution_count": 151,
      "outputs": [
        {
          "output_type": "execute_result",
          "data": {
            "text/plain": [
              "tensor([[1.1420e-01, 2.6845e-01, 8.9468e-04],\n",
              "        [4.2010e-02, 7.2974e-01, 1.7970e-02],\n",
              "        [8.4379e-01, 1.8088e-03, 9.8114e-01]])"
            ]
          },
          "metadata": {},
          "execution_count": 151
        }
      ]
    },
    {
      "cell_type": "code",
      "source": [
        "#RELu\n",
        "torch.relu(k)"
      ],
      "metadata": {
        "colab": {
          "base_uri": "https://localhost:8080/"
        },
        "id": "PFHqT8wdiikS",
        "outputId": "664801c7-3acc-4b08-9ab2-14a096d1cf7b"
      },
      "execution_count": 152,
      "outputs": [
        {
          "output_type": "execute_result",
          "data": {
            "text/plain": [
              "tensor([[4., 7., 2.],\n",
              "        [3., 8., 5.],\n",
              "        [6., 2., 9.]])"
            ]
          },
          "metadata": {},
          "execution_count": 152
        }
      ]
    },
    {
      "cell_type": "markdown",
      "source": [
        "**INPLACE OPERATIONS: put _ in front of functions it become inplace operation permanent changes**"
      ],
      "metadata": {
        "id": "T6lsUycAmzdX"
      }
    },
    {
      "cell_type": "code",
      "source": [
        "m=torch.rand(2,3)\n",
        "n=torch.rand(2,3)\n",
        "print(m)\n",
        "print(n)"
      ],
      "metadata": {
        "colab": {
          "base_uri": "https://localhost:8080/"
        },
        "id": "sj9Qdvoem63l",
        "outputId": "566ad432-f12c-4009-84ec-c2da32ac0d90"
      },
      "execution_count": 153,
      "outputs": [
        {
          "output_type": "stream",
          "name": "stdout",
          "text": [
            "tensor([[0.9516, 0.2855, 0.2324],\n",
            "        [0.9141, 0.7668, 0.1659]])\n",
            "tensor([[0.4393, 0.2243, 0.8935],\n",
            "        [0.0497, 0.1780, 0.3011]])\n"
          ]
        }
      ]
    },
    {
      "cell_type": "code",
      "source": [
        "m.add_(n)# this function adds m and n and ten puts the sum into m again"
      ],
      "metadata": {
        "colab": {
          "base_uri": "https://localhost:8080/"
        },
        "id": "ZcTbwkL-m61E",
        "outputId": "a2cddaa0-6391-4026-f242-0001d350155b"
      },
      "execution_count": 154,
      "outputs": [
        {
          "output_type": "execute_result",
          "data": {
            "text/plain": [
              "tensor([[1.3909, 0.5098, 1.1259],\n",
              "        [0.9638, 0.9448, 0.4670]])"
            ]
          },
          "metadata": {},
          "execution_count": 154
        }
      ]
    },
    {
      "cell_type": "code",
      "source": [
        "m #see the change in above m and this m"
      ],
      "metadata": {
        "colab": {
          "base_uri": "https://localhost:8080/"
        },
        "id": "64RqMUqSm6zf",
        "outputId": "8bbd4aec-2231-4798-e5e6-edc77f93fb61"
      },
      "execution_count": 155,
      "outputs": [
        {
          "output_type": "execute_result",
          "data": {
            "text/plain": [
              "tensor([[1.3909, 0.5098, 1.1259],\n",
              "        [0.9638, 0.9448, 0.4670]])"
            ]
          },
          "metadata": {},
          "execution_count": 155
        }
      ]
    },
    {
      "cell_type": "code",
      "source": [
        "n#remains same"
      ],
      "metadata": {
        "colab": {
          "base_uri": "https://localhost:8080/"
        },
        "id": "4hM5gIQXm6vw",
        "outputId": "5ea1a957-e8c8-44d6-e939-7eb517b3d119"
      },
      "execution_count": 156,
      "outputs": [
        {
          "output_type": "execute_result",
          "data": {
            "text/plain": [
              "tensor([[0.4393, 0.2243, 0.8935],\n",
              "        [0.0497, 0.1780, 0.3011]])"
            ]
          },
          "metadata": {},
          "execution_count": 156
        }
      ]
    },
    {
      "cell_type": "markdown",
      "source": [
        "**COPYING A TENSOR**"
      ],
      "metadata": {
        "id": "bNBeGfVRoPHF"
      }
    },
    {
      "cell_type": "code",
      "source": [
        "a=torch.rand(2,3)\n",
        "b=torch.rand(2,3)\n",
        "a"
      ],
      "metadata": {
        "id": "q0qnPfdPm6sq",
        "colab": {
          "base_uri": "https://localhost:8080/"
        },
        "outputId": "927dd567-984a-44ad-b9fd-58539dc70877"
      },
      "execution_count": 157,
      "outputs": [
        {
          "output_type": "execute_result",
          "data": {
            "text/plain": [
              "tensor([[0.1893, 0.9186, 0.2131],\n",
              "        [0.3957, 0.6017, 0.4234]])"
            ]
          },
          "metadata": {},
          "execution_count": 157
        }
      ]
    },
    {
      "cell_type": "code",
      "source": [
        "b=a\n",
        "b"
      ],
      "metadata": {
        "colab": {
          "base_uri": "https://localhost:8080/"
        },
        "id": "N7IzezZfsxfg",
        "outputId": "50405d2f-cbf9-403a-e6d9-4efb3c4d1552"
      },
      "execution_count": 158,
      "outputs": [
        {
          "output_type": "execute_result",
          "data": {
            "text/plain": [
              "tensor([[0.1893, 0.9186, 0.2131],\n",
              "        [0.3957, 0.6017, 0.4234]])"
            ]
          },
          "metadata": {},
          "execution_count": 158
        }
      ]
    },
    {
      "cell_type": "code",
      "source": [
        "a[0][0]=0\n",
        "a"
      ],
      "metadata": {
        "colab": {
          "base_uri": "https://localhost:8080/"
        },
        "id": "X4lrk0x-sxc7",
        "outputId": "edf093ce-12b9-45f6-caba-1fe4ac0221f6"
      },
      "execution_count": 160,
      "outputs": [
        {
          "output_type": "execute_result",
          "data": {
            "text/plain": [
              "tensor([[0.0000, 0.9186, 0.2131],\n",
              "        [0.3957, 0.6017, 0.4234]])"
            ]
          },
          "metadata": {},
          "execution_count": 160
        }
      ]
    },
    {
      "cell_type": "code",
      "source": [
        "b# we can see b also changes when we are directly using '=' operator: WE WANT TO AVOID IT"
      ],
      "metadata": {
        "colab": {
          "base_uri": "https://localhost:8080/"
        },
        "id": "A05cE3xUsxYJ",
        "outputId": "d5f4ec18-f8d9-4940-bb21-d0722f9114b5"
      },
      "execution_count": 161,
      "outputs": [
        {
          "output_type": "execute_result",
          "data": {
            "text/plain": [
              "tensor([[0.0000, 0.9186, 0.2131],\n",
              "        [0.3957, 0.6017, 0.4234]])"
            ]
          },
          "metadata": {},
          "execution_count": 161
        }
      ]
    },
    {
      "cell_type": "code",
      "source": [
        "id(a)"
      ],
      "metadata": {
        "colab": {
          "base_uri": "https://localhost:8080/"
        },
        "id": "mOIrauDXsxVO",
        "outputId": "cecbc78d-f982-461b-a400-18d039054677"
      },
      "execution_count": 162,
      "outputs": [
        {
          "output_type": "execute_result",
          "data": {
            "text/plain": [
              "133462844868944"
            ]
          },
          "metadata": {},
          "execution_count": 162
        }
      ]
    },
    {
      "cell_type": "code",
      "source": [
        "id(b)#same id as a: WE WANT TO AVOID IT"
      ],
      "metadata": {
        "id": "hIYIdNuGm6pp",
        "colab": {
          "base_uri": "https://localhost:8080/"
        },
        "outputId": "d36ad7ed-11f5-458b-b6e8-510f70f0114e"
      },
      "execution_count": 165,
      "outputs": [
        {
          "output_type": "execute_result",
          "data": {
            "text/plain": [
              "133462844868944"
            ]
          },
          "metadata": {},
          "execution_count": 165
        }
      ]
    },
    {
      "cell_type": "code",
      "source": [
        "b=a.clone()"
      ],
      "metadata": {
        "id": "bEj5gdB5ti_9"
      },
      "execution_count": 166,
      "outputs": []
    },
    {
      "cell_type": "code",
      "source": [
        "a[0][0]=10\n",
        "a"
      ],
      "metadata": {
        "colab": {
          "base_uri": "https://localhost:8080/"
        },
        "id": "zr2mOTr4ti9L",
        "outputId": "2f842355-d0c8-47c8-d2fb-3ae14dcaef93"
      },
      "execution_count": 167,
      "outputs": [
        {
          "output_type": "execute_result",
          "data": {
            "text/plain": [
              "tensor([[10.0000,  0.9186,  0.2131],\n",
              "        [ 0.3957,  0.6017,  0.4234]])"
            ]
          },
          "metadata": {},
          "execution_count": 167
        }
      ]
    },
    {
      "cell_type": "code",
      "source": [
        "b# differnet now"
      ],
      "metadata": {
        "colab": {
          "base_uri": "https://localhost:8080/"
        },
        "id": "7Cl1FXqjti6h",
        "outputId": "0438bd8b-2528-496a-9c6d-f288c929d19c"
      },
      "execution_count": 168,
      "outputs": [
        {
          "output_type": "execute_result",
          "data": {
            "text/plain": [
              "tensor([[0.0000, 0.9186, 0.2131],\n",
              "        [0.3957, 0.6017, 0.4234]])"
            ]
          },
          "metadata": {},
          "execution_count": 168
        }
      ]
    },
    {
      "cell_type": "code",
      "source": [
        "id(a)"
      ],
      "metadata": {
        "colab": {
          "base_uri": "https://localhost:8080/"
        },
        "id": "Sed3gHCiti4H",
        "outputId": "32cc2f56-50f2-40cf-bc88-4d63b65dad1f"
      },
      "execution_count": 169,
      "outputs": [
        {
          "output_type": "execute_result",
          "data": {
            "text/plain": [
              "133462844868944"
            ]
          },
          "metadata": {},
          "execution_count": 169
        }
      ]
    },
    {
      "cell_type": "code",
      "source": [
        "id(b)#now differnt address"
      ],
      "metadata": {
        "id": "Ji7vZEXgiih0",
        "colab": {
          "base_uri": "https://localhost:8080/"
        },
        "outputId": "78a91db5-0d2c-47f1-efe7-6012a77e7548"
      },
      "execution_count": 170,
      "outputs": [
        {
          "output_type": "execute_result",
          "data": {
            "text/plain": [
              "133462407491856"
            ]
          },
          "metadata": {},
          "execution_count": 170
        }
      ]
    },
    {
      "cell_type": "markdown",
      "source": [
        "**Reshaping Tensors**"
      ],
      "metadata": {
        "id": "oBwv7vu-u8J9"
      }
    },
    {
      "cell_type": "code",
      "source": [
        "a=torch.ones(4,4)\n",
        "a"
      ],
      "metadata": {
        "colab": {
          "base_uri": "https://localhost:8080/"
        },
        "id": "6SEA346Vt54k",
        "outputId": "4da077a4-a14b-48f3-8b1f-bdb5f3256df9"
      },
      "execution_count": 173,
      "outputs": [
        {
          "output_type": "execute_result",
          "data": {
            "text/plain": [
              "tensor([[1., 1., 1., 1.],\n",
              "        [1., 1., 1., 1.],\n",
              "        [1., 1., 1., 1.],\n",
              "        [1., 1., 1., 1.]])"
            ]
          },
          "metadata": {},
          "execution_count": 173
        }
      ]
    },
    {
      "cell_type": "code",
      "source": [
        "a.flatten()"
      ],
      "metadata": {
        "colab": {
          "base_uri": "https://localhost:8080/"
        },
        "id": "oaEjnEnIt515",
        "outputId": "ca404113-c755-44b3-bf51-26c12e1ba9b0"
      },
      "execution_count": 174,
      "outputs": [
        {
          "output_type": "execute_result",
          "data": {
            "text/plain": [
              "tensor([1., 1., 1., 1., 1., 1., 1., 1., 1., 1., 1., 1., 1., 1., 1., 1.])"
            ]
          },
          "metadata": {},
          "execution_count": 174
        }
      ]
    },
    {
      "cell_type": "code",
      "source": [
        "b=torch.rand(2,3,4)\n",
        "b"
      ],
      "metadata": {
        "colab": {
          "base_uri": "https://localhost:8080/"
        },
        "id": "rFL5Lnvgt5xE",
        "outputId": "ed1d43b2-3c4c-4ea5-822d-f0733cfbbc21"
      },
      "execution_count": 175,
      "outputs": [
        {
          "output_type": "execute_result",
          "data": {
            "text/plain": [
              "tensor([[[0.8277, 0.6594, 0.0887, 0.4890],\n",
              "         [0.5887, 0.7340, 0.8497, 0.9112],\n",
              "         [0.4847, 0.9436, 0.3904, 0.2499]],\n",
              "\n",
              "        [[0.3206, 0.9753, 0.7582, 0.6688],\n",
              "         [0.2651, 0.2336, 0.5057, 0.5688],\n",
              "         [0.0634, 0.8993, 0.2732, 0.3397]]])"
            ]
          },
          "metadata": {},
          "execution_count": 175
        }
      ]
    },
    {
      "cell_type": "code",
      "source": [
        "#permute\n",
        "b.permute(2,0,1).shape#interchange the row collumn position"
      ],
      "metadata": {
        "colab": {
          "base_uri": "https://localhost:8080/"
        },
        "id": "JIQXXeLWt5ut",
        "outputId": "d800855a-c4aa-4adc-ccb4-71c925956065"
      },
      "execution_count": 178,
      "outputs": [
        {
          "output_type": "execute_result",
          "data": {
            "text/plain": [
              "torch.Size([4, 2, 3])"
            ]
          },
          "metadata": {},
          "execution_count": 178
        }
      ]
    },
    {
      "cell_type": "code",
      "source": [
        "#unsqueezwe\n",
        "#image size\n",
        "c=torch.rand(226,226,3)\n",
        "c.unsqueeze(0).shape"
      ],
      "metadata": {
        "colab": {
          "base_uri": "https://localhost:8080/"
        },
        "id": "bNlo1O3dt5sa",
        "outputId": "5f60c5b3-0eed-4342-b739-dd83181d8022"
      },
      "execution_count": 181,
      "outputs": [
        {
          "output_type": "execute_result",
          "data": {
            "text/plain": [
              "torch.Size([1, 226, 226, 3])"
            ]
          },
          "metadata": {},
          "execution_count": 181
        }
      ]
    },
    {
      "cell_type": "code",
      "source": [
        "c.unsqueeze(1).shape"
      ],
      "metadata": {
        "colab": {
          "base_uri": "https://localhost:8080/"
        },
        "id": "7BGQrOqOt5p_",
        "outputId": "49754ce5-31f2-4adc-93de-7a2eb34e5ced"
      },
      "execution_count": 182,
      "outputs": [
        {
          "output_type": "execute_result",
          "data": {
            "text/plain": [
              "torch.Size([226, 1, 226, 3])"
            ]
          },
          "metadata": {},
          "execution_count": 182
        }
      ]
    },
    {
      "cell_type": "code",
      "source": [
        "#squeeze\n",
        "d=torch.rand(1,20)\n",
        "d"
      ],
      "metadata": {
        "colab": {
          "base_uri": "https://localhost:8080/"
        },
        "id": "j-PCr99ywqni",
        "outputId": "0f55d01f-6513-4fbc-d6ec-b7d26857856a"
      },
      "execution_count": 183,
      "outputs": [
        {
          "output_type": "execute_result",
          "data": {
            "text/plain": [
              "tensor([[0.0289, 0.0433, 0.6532, 0.7963, 0.4182, 0.6831, 0.0971, 0.8091, 0.6566,\n",
              "         0.6673, 0.9820, 0.8727, 0.6075, 0.8980, 0.6448, 0.4835, 0.3448, 0.5868,\n",
              "         0.7389, 0.8681]])"
            ]
          },
          "metadata": {},
          "execution_count": 183
        }
      ]
    },
    {
      "cell_type": "code",
      "source": [
        "d.squeeze(0).shape"
      ],
      "metadata": {
        "colab": {
          "base_uri": "https://localhost:8080/"
        },
        "id": "ljWwD_xAwqlD",
        "outputId": "fdbd56fd-ab55-4ca3-b7bc-9c82b140dcd1"
      },
      "execution_count": 184,
      "outputs": [
        {
          "output_type": "execute_result",
          "data": {
            "text/plain": [
              "torch.Size([20])"
            ]
          },
          "metadata": {},
          "execution_count": 184
        }
      ]
    },
    {
      "cell_type": "markdown",
      "source": [
        "**NUMPY AND PyTorch**"
      ],
      "metadata": {
        "id": "fxfTbn9mxKWu"
      }
    },
    {
      "cell_type": "code",
      "source": [
        "import numpy as np"
      ],
      "metadata": {
        "id": "3z6kVZWWxJi2"
      },
      "execution_count": 185,
      "outputs": []
    },
    {
      "cell_type": "code",
      "source": [
        "a=torch.tensor([1,2,3])\n",
        "a"
      ],
      "metadata": {
        "colab": {
          "base_uri": "https://localhost:8080/"
        },
        "id": "Zej02sRqxJRn",
        "outputId": "29e39370-def7-4e70-b92b-ff7bf2676ec1"
      },
      "execution_count": 186,
      "outputs": [
        {
          "output_type": "execute_result",
          "data": {
            "text/plain": [
              "tensor([1, 2, 3])"
            ]
          },
          "metadata": {},
          "execution_count": 186
        }
      ]
    },
    {
      "cell_type": "code",
      "source": [
        "b=a.numpy()"
      ],
      "metadata": {
        "id": "rfCC5EMfxJNR"
      },
      "execution_count": 187,
      "outputs": []
    },
    {
      "cell_type": "code",
      "source": [
        "b"
      ],
      "metadata": {
        "colab": {
          "base_uri": "https://localhost:8080/"
        },
        "id": "dk-6eLNSxJKn",
        "outputId": "45c4cf13-6b75-481e-89b4-5ca38dd0a24f"
      },
      "execution_count": 188,
      "outputs": [
        {
          "output_type": "execute_result",
          "data": {
            "text/plain": [
              "array([1, 2, 3])"
            ]
          },
          "metadata": {},
          "execution_count": 188
        }
      ]
    },
    {
      "cell_type": "code",
      "source": [
        "type(b)"
      ],
      "metadata": {
        "colab": {
          "base_uri": "https://localhost:8080/"
        },
        "id": "2S-If08cxJFq",
        "outputId": "6371da53-3f03-41cb-c5e1-d7fb6bb9e8f4"
      },
      "execution_count": 189,
      "outputs": [
        {
          "output_type": "execute_result",
          "data": {
            "text/plain": [
              "numpy.ndarray"
            ]
          },
          "metadata": {},
          "execution_count": 189
        }
      ]
    },
    {
      "cell_type": "code",
      "source": [
        "c=np.array([1,2,3])"
      ],
      "metadata": {
        "id": "GV9Om90hxJDX"
      },
      "execution_count": 190,
      "outputs": []
    },
    {
      "cell_type": "code",
      "source": [
        "torch.from_numpy(c)"
      ],
      "metadata": {
        "colab": {
          "base_uri": "https://localhost:8080/"
        },
        "id": "erKz2j94xirW",
        "outputId": "33c7c3d5-ed92-422d-d763-7d367e092ee0"
      },
      "execution_count": 191,
      "outputs": [
        {
          "output_type": "execute_result",
          "data": {
            "text/plain": [
              "tensor([1, 2, 3])"
            ]
          },
          "metadata": {},
          "execution_count": 191
        }
      ]
    },
    {
      "cell_type": "code",
      "source": [],
      "metadata": {
        "id": "b4v6919vxiok"
      },
      "execution_count": null,
      "outputs": []
    }
  ]
}